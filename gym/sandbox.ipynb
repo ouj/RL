{
 "cells": [
  {
   "cell_type": "code",
   "execution_count": 9,
   "metadata": {},
   "outputs": [],
   "source": [
    "import tensorflow as tf\n",
    "import gym\n",
    "import numpy as np"
   ]
  },
  {
   "cell_type": "code",
   "execution_count": 10,
   "metadata": {},
   "outputs": [],
   "source": [
    "env = gym.make(\"SpaceInvaders-v4\")"
   ]
  },
  {
   "cell_type": "code",
   "execution_count": 15,
   "metadata": {},
   "outputs": [],
   "source": [
    "class StackedReplayBuffer:\n",
    "    def __init__(\n",
    "        self,\n",
    "        observation_shape,\n",
    "        action_dim,\n",
    "        stack_size,\n",
    "        max_size = 1000000\n",
    "    ):\n",
    "        self.current = 0\n",
    "        self.size = 0\n",
    "        self.stack_size = stack_size\n",
    "        self.max_size = max_size\n",
    "        self.observations = np.zeros(\n",
    "            [max_size, *observation_shape], dtype=np.float32\n",
    "        )\n",
    "        self.actions = np.zeros(\n",
    "            [max_size, action_dim], dtype=np.float32\n",
    "        )\n",
    "        self.rewards = np.zeros(max_size, dtype=np.float32)\n",
    "        self.dones = np.zeros(max_size, dtype=np.float32)\n",
    "\n",
    "    def number_of_samples(self):\n",
    "        return self.size\n",
    "\n",
    "    def store(self, observation, action, reward, done):\n",
    "        self.observations[self.current] = observation\n",
    "        self.actions[self.current] = action\n",
    "        self.rewards[self.current] = reward\n",
    "        self.dones[self.current] = done\n",
    "        self.current = (self.current + 1) % self.max_size\n",
    "        self.size = min(self.size + 1, self.max_size)\n",
    "\n",
    "\n",
    "    def get_state(self, index):\n",
    "        if self.size == 0:\n",
    "            raise ValueError(\"Empty replay buffer\")\n",
    "        if index < self.stack_size - 1:\n",
    "            raise ValueError(\n",
    "                \"For stack of %d, the minimal index must be %d\" % (\n",
    "                    self.stack_size, self.stack_size - 1\n",
    "                )\n",
    "            )\n",
    "        return self.observations[index - self.stack_size + 1:index+1, ...]\n",
    "\n",
    "    def get_valid_indices(self, batch_size):\n",
    "        indices = np.zeros(batch_size)\n",
    "        for i in range(batch_size):\n",
    "            while True:\n",
    "                index = np.random.randint(0, self.size - 1)\n",
    "                if index < self.stack_size:\n",
    "                    continue\n",
    "                elif index >= self.current and index - self.stack_size <= self.current:\n",
    "                    continue\n",
    "                elif self.dones[index - self.stack_size:index].any():\n",
    "                    continue\n",
    "                else:\n",
    "                    break\n",
    "            indices[i] = index\n",
    "        return indices\n",
    "\n",
    "    def sample_batch(self, batch_size=32):\n",
    "        assert batch_size <= self.size\n",
    "        assert self.size < self.stack_size\n",
    "\n",
    "        indexes = self.get_valid_indices(batch_size=batch_size)\n",
    "\n",
    "        return dict(\n",
    "            s=self.observations[indexes],\n",
    "            a=self.actions[indexes],\n",
    "            r=self.rewards[indexes],\n",
    "            d=self.dones[indexes]\n",
    "        )\n"
   ]
  },
  {
   "cell_type": "code",
   "execution_count": 30,
   "metadata": {},
   "outputs": [
    {
     "data": {
      "text/plain": [
       "(302400,)"
      ]
     },
     "execution_count": 30,
     "metadata": {},
     "output_type": "execute_result"
    }
   ],
   "source": [
    "observation_shape = env.observation_space.shape\n",
    "observations = np.zeros(\n",
    "            [200, *observation_shape], dtype=np.float32\n",
    "        )\n",
    "observations.shape\n",
    "sample = observations[0:3, ...]\n",
    "sample.ravel().shape"
   ]
  },
  {
   "cell_type": "code",
   "execution_count": 12,
   "metadata": {},
   "outputs": [],
   "source": [
    "observation = env.reset()\n",
    "done = False\n",
    "while not done:\n",
    "    action = env.action_space.sample()\n",
    "    observation, reward, done, _ = env.step(action)\n",
    "    env.render()\n",
    "env.close()"
   ]
  }
 ],
 "metadata": {
  "kernelspec": {
   "display_name": "Python 3",
   "language": "python",
   "name": "python3"
  },
  "language_info": {
   "codemirror_mode": {
    "name": "ipython",
    "version": 3
   },
   "file_extension": ".py",
   "mimetype": "text/x-python",
   "name": "python",
   "nbconvert_exporter": "python",
   "pygments_lexer": "ipython3",
   "version": "3.7.1"
  }
 },
 "nbformat": 4,
 "nbformat_minor": 2
}
